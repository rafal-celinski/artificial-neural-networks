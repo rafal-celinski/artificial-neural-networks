{
 "cells": [
  {
   "cell_type": "markdown",
   "id": "c53fef46",
   "metadata": {},
   "source": [
    "road_sign_generation"
   ]
  }
 ],
 "metadata": {
  "language_info": {
   "name": "python"
  }
 },
 "nbformat": 4,
 "nbformat_minor": 5
}
