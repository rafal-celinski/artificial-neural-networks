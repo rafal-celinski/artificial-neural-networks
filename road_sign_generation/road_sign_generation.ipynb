{
  "cells": [
    {
      "cell_type": "markdown",
      "id": "c53fef46",
      "metadata": {
        "id": "c53fef46"
      },
      "source": [
        "road_sign_generation"
      ]
    },
    {
      "cell_type": "code",
      "execution_count": 1,
      "id": "KN7oYV-yh0wh",
      "metadata": {
        "id": "KN7oYV-yh0wh"
      },
      "outputs": [],
      "source": [
        "import pandas as pd\n",
        "import numpy as np\n",
        "\n",
        "from matplotlib import pyplot as plt\n",
        "\n",
        "import torchvision\n",
        "import torchvision.transforms as transforms\n",
        "from torchvision.datasets import ImageFolder\n",
        "\n",
        "import torch\n",
        "import torch.nn as nn\n",
        "import torch.nn.functional as F\n",
        "from torch.utils.data import random_split, DataLoader\n",
        "import torch.optim as optim"
      ]
    },
    {
      "cell_type": "code",
      "execution_count": null,
      "id": "z4UQA5m9qsOc",
      "metadata": {
        "id": "z4UQA5m9qsOc"
      },
      "outputs": [],
      "source": [
        "use_cuda = torch.cuda.is_available()\n",
        "device = torch.device(\"cuda:0\" if use_cuda else \"cpu\")\n",
        "print(f\"Device: {device}\")"
      ]
    },
    {
      "cell_type": "code",
      "source": [
        "from google.colab import drive\n",
        "drive.mount('/content/drive')"
      ],
      "metadata": {
        "id": "nCQQSnukGuPu"
      },
      "id": "nCQQSnukGuPu",
      "execution_count": null,
      "outputs": []
    },
    {
      "cell_type": "code",
      "source": [
        "\n",
        "!unzip trafic_32.zip\n",
        "data_path = 'trafic_32'"
      ],
      "metadata": {
        "id": "2J359PYsOxJ1"
      },
      "id": "2J359PYsOxJ1",
      "execution_count": null,
      "outputs": []
    },
    {
      "cell_type": "code",
      "execution_count": null,
      "id": "_5Gp448Li-3p",
      "metadata": {
        "id": "_5Gp448Li-3p"
      },
      "outputs": [],
      "source": [
        "batch_size = 32\n",
        "\n",
        "transform = transforms.Compose([\n",
        "    transforms.ToTensor(),\n",
        "    transforms.Normalize(mean=[0.5, 0.5, 0.5], std=[0.5, 0.5, 0.5])\n",
        "])\n",
        "\n",
        "dataset = ImageFolder(data_path, transform=transform)\n",
        "\n",
        "train_size = int(0.8 * len(dataset))\n",
        "val_size = int(0.1 * len(dataset))\n",
        "test_size = len(dataset) - train_size - val_size\n",
        "\n",
        "train_dataset, val_dataset, test_dataset = random_split(dataset, [train_size, val_size, test_size])\n",
        "\n",
        "train_loader = DataLoader(train_dataset, batch_size=batch_size, shuffle=True)\n",
        "val_loader = DataLoader(val_dataset, batch_size=batch_size, shuffle=False)\n",
        "test_loader = DataLoader(test_dataset, batch_size=batch_size, shuffle=False)\n",
        "\n",
        "print(f\"Number of images in training dataset: {len(train_dataset)}\")\n",
        "print(f\"Number of images in validation dataset: {len(val_dataset)}\")\n",
        "print(f\"Number of images in test dataset: {len(test_dataset)}\")"
      ]
    },
    {
      "cell_type": "code",
      "execution_count": null,
      "id": "67kwp-1kjyhM",
      "metadata": {
        "id": "67kwp-1kjyhM"
      },
      "outputs": [],
      "source": [
        "plt.figure(figsize = (20,10))\n",
        "\n",
        "def imshow(img):\n",
        "    img = img / 2 + 0.5     # unnormalize\n",
        "    npimg = img.numpy()\n",
        "    plt.imshow(np.transpose(npimg, (1, 2, 0)))\n",
        "    plt.show()\n",
        "# get some random training images\n",
        "images, labels = next(iter(train_loader))\n",
        "\n",
        "# show images\n",
        "imshow(torchvision.utils.make_grid(images))\n",
        "\n",
        "print(list(dataset.classes[labels[j]] for j in range(batch_size)))"
      ]
    },
    {
      "cell_type": "code",
      "execution_count": null,
      "id": "EOQfG807oR1w",
      "metadata": {
        "id": "EOQfG807oR1w"
      },
      "outputs": [],
      "source": [
        "n_classes = len(dataset.classes)\n",
        "images.size()"
      ]
    },
    {
      "cell_type": "markdown",
      "source": [
        "## FID"
      ],
      "metadata": {
        "id": "tRelJmObBzs8"
      },
      "id": "tRelJmObBzs8"
    },
    {
      "cell_type": "code",
      "source": [
        "class Evaluator(nn.Module):\n",
        "    def __init__(self, input_dim, hidden_dim):\n",
        "        super(Evaluator, self).__init__()\n",
        "\n",
        "        self.fc_1 = nn.Linear(input_dim, hidden_dim)\n",
        "        self.fc_2 = nn.Linear(hidden_dim, 50)\n",
        "        self.fc_out  = nn.Linear(50, n_classes)\n",
        "\n",
        "        self.LeakyReLU = nn.LeakyReLU(0.2)\n",
        "\n",
        "    def get_features(self, x):\n",
        "        x = torch.flatten(x, 1)\n",
        "        x = self.LeakyReLU(self.fc_1(x))\n",
        "        x = self.LeakyReLU(self.fc_2(x))\n",
        "        return x\n",
        "\n",
        "\n",
        "    def forward(self, x):\n",
        "        x = self.get_features(x)\n",
        "        x = self.fc_out(x)\n",
        "        return x\n",
        "\n",
        "evaluator = Evaluator(32*32*3, 256).to(device)"
      ],
      "metadata": {
        "id": "l48Z9JBhB2M5"
      },
      "id": "l48Z9JBhB2M5",
      "execution_count": 10,
      "outputs": []
    },
    {
      "cell_type": "code",
      "source": [
        "# Optimizers\n",
        "eval_optimizer = torch.optim.Adam(evaluator.parameters(), lr=0.001)\n",
        "eval_scheduler = optim.lr_scheduler.ExponentialLR(optimizer=eval_optimizer, gamma=0.97)\n",
        "\n",
        "# loss\n",
        "eval_criterion = nn.CrossEntropyLoss()\n",
        "\n",
        "num_epochs = 10\n",
        "for epoch in range(num_epochs):\n",
        "    print(f'Epoch {epoch+1}/{num_epochs}')\n",
        "    for data, targets in iter(train_loader):\n",
        "        data = data.to(device)\n",
        "        targets = targets.to(device)\n",
        "\n",
        "        results = evaluator(data)\n",
        "        loss = eval_criterion(results, targets)\n",
        "\n",
        "        eval_optimizer.zero_grad()\n",
        "        loss.backward()\n",
        "        eval_optimizer.step()"
      ],
      "metadata": {
        "id": "vS6-N7IxB5jp"
      },
      "id": "vS6-N7IxB5jp",
      "execution_count": null,
      "outputs": []
    },
    {
      "cell_type": "code",
      "source": [
        "######### Frechet Inception distance based on implementation from https://github.com/mseitzer/pytorch-fid\n",
        "\n",
        "import numpy as np\n",
        "from scipy import linalg\n",
        "\n",
        "\n",
        "def calculate_frechet_distance(distribution_1, distribution_2, eps=1e-6):\n",
        "    mu1 = np.mean(distribution_1, axis=0)\n",
        "    sigma1 = np.cov(distribution_1, rowvar=False)\n",
        "\n",
        "    mu2 = np.mean(distribution_2, axis=0)\n",
        "    sigma2 = np.cov(distribution_2, rowvar=False)\n",
        "\n",
        "    \"\"\"Numpy implementation of the Frechet Distance.\n",
        "    The Frechet distance between two multivariate Gaussians X_1 ~ N(mu_1, C_1)\n",
        "    and X_2 ~ N(mu_2, C_2) is\n",
        "            d^2 = ||mu_1 - mu_2||^2 + Tr(C_1 + C_2 - 2*sqrt(C_1*C_2)).\n",
        "    Stable version by Dougal J. Sutherland.\n",
        "    Params:\n",
        "    -- mu1   : Numpy array containing the activations of a layer of the\n",
        "               inception net (like returned by the function 'get_predictions')\n",
        "               for generated samples.\n",
        "    -- mu2   : The sample mean over activations, precalculated on an\n",
        "               representative data set.\n",
        "    -- sigma1: The covariance matrix over activations for generated samples.\n",
        "    -- sigma2: The covariance matrix over activations, precalculated on an\n",
        "               representative data set.\n",
        "    Returns:\n",
        "    --   : The Frechet Distance.\n",
        "    \"\"\"\n",
        "\n",
        "    mu1 = np.atleast_1d(mu1)\n",
        "    mu2 = np.atleast_1d(mu2)\n",
        "\n",
        "    sigma1 = np.atleast_2d(sigma1)\n",
        "    sigma2 = np.atleast_2d(sigma2)\n",
        "\n",
        "    assert mu1.shape == mu2.shape, \\\n",
        "        'Training and test mean vectors have different lengths'\n",
        "    assert sigma1.shape == sigma2.shape, \\\n",
        "        'Training and test covariances have different dimensions'\n",
        "\n",
        "    diff = mu1 - mu2\n",
        "\n",
        "    # Product might be almost singular\n",
        "    covmean, _ = linalg.sqrtm(sigma1.dot(sigma2), disp=False)\n",
        "    if not np.isfinite(covmean).all():\n",
        "        msg = ('fid calculation produces singular product; '\n",
        "               'adding %s to diagonal of cov estimates') % eps\n",
        "        print(msg)\n",
        "        offset = np.eye(sigma1.shape[0]) * eps\n",
        "        covmean = linalg.sqrtm((sigma1 + offset).dot(sigma2 + offset))\n",
        "\n",
        "    # Numerical error might give slight imaginary component\n",
        "    if np.iscomplexobj(covmean):\n",
        "        if not np.allclose(np.diagonal(covmean).imag, 0, atol=1e-3):\n",
        "            m = np.max(np.abs(covmean.imag))\n",
        "            raise ValueError('Imaginary component {}'.format(m))\n",
        "        covmean = covmean.real\n",
        "\n",
        "    tr_covmean = np.trace(covmean)\n",
        "\n",
        "    return (diff.dot(diff) + np.trace(sigma1) +\n",
        "            np.trace(sigma2) - 2 * tr_covmean)"
      ],
      "metadata": {
        "id": "MHQOK52iCFvB"
      },
      "id": "MHQOK52iCFvB",
      "execution_count": 12,
      "outputs": []
    },
    {
      "cell_type": "code",
      "source": [
        "orig_data = [x[0] for x in list(test_dataset)[:1000]]\n",
        "orig_data = torch.stack(orig_data)\n",
        "\n",
        "dist_orig_data = evaluator.get_features(orig_data.to(device)).cpu()"
      ],
      "metadata": {
        "id": "7SGhBUcICMi3"
      },
      "id": "7SGhBUcICMi3",
      "execution_count": 13,
      "outputs": []
    },
    {
      "cell_type": "markdown",
      "id": "eoEr17Q3pQrP",
      "metadata": {
        "id": "eoEr17Q3pQrP"
      },
      "source": [
        "## Generative Adversarial Networks\n"
      ]
    },
    {
      "cell_type": "code",
      "execution_count": 14,
      "id": "zTM3VdDapP-7",
      "metadata": {
        "id": "zTM3VdDapP-7"
      },
      "outputs": [],
      "source": [
        "class Discriminator(nn.Module):\n",
        "    def __init__(self, input_dim, hidden_dim, n_classes, embed_dim):\n",
        "        super(Discriminator, self).__init__()\n",
        "\n",
        "        self.label_embedding = nn.Embedding(n_classes, embed_dim)\n",
        "\n",
        "        self.fc_1 = nn.Linear(input_dim + embed_dim, hidden_dim)\n",
        "        self.fc_2 = nn.Linear(hidden_dim, hidden_dim)\n",
        "        self.fc_out  = nn.Linear(hidden_dim, 1)\n",
        "\n",
        "        self.LeakyReLU = nn.LeakyReLU(0.2)\n",
        "\n",
        "    def forward(self, image, labels):\n",
        "\n",
        "        image = torch.flatten(image, 1)\n",
        "\n",
        "        label_embedding = self.label_embedding(labels)\n",
        "        combined_input = torch.cat((image, label_embedding), 1)\n",
        "\n",
        "        x = self.LeakyReLU(self.fc_1(combined_input))\n",
        "        x = self.LeakyReLU(self.fc_2(x))\n",
        "        x = self.fc_out(x)\n",
        "        return x"
      ]
    },
    {
      "cell_type": "code",
      "execution_count": 15,
      "id": "2SbuTlbcpYvd",
      "metadata": {
        "id": "2SbuTlbcpYvd"
      },
      "outputs": [],
      "source": [
        "class Generator(nn.Module):\n",
        "    def __init__(self, latent_dim, hidden_dim, output_dim, n_classes, embed_dim):\n",
        "        super(Generator, self).__init__()\n",
        "\n",
        "        self.label_embedding = nn.Embedding(n_classes, embed_dim)\n",
        "\n",
        "        self.fc_1 = nn.Linear(latent_dim + embed_dim, hidden_dim)\n",
        "        self.fc_2 = nn.Linear(hidden_dim, hidden_dim)\n",
        "        self.fc_3 = nn.Linear(hidden_dim, output_dim)\n",
        "\n",
        "        self.LeakyReLU = nn.LeakyReLU(0.2)\n",
        "\n",
        "    def forward(self, noise, labels):\n",
        "        label_embedding = self.label_embedding(labels)\n",
        "\n",
        "        combined_input = torch.cat((noise, label_embedding), 1)\n",
        "\n",
        "        h = self.LeakyReLU(self.fc_1(combined_input))\n",
        "        h = self.LeakyReLU(self.fc_2(h))\n",
        "\n",
        "        x_hat = torch.tanh(self.fc_3(h))\n",
        "        x_hat = x_hat.view([-1, 3, 32, 32])\n",
        "        return x_hat"
      ]
    },
    {
      "cell_type": "code",
      "execution_count": 16,
      "id": "Fy0qcX-Hqe_Z",
      "metadata": {
        "id": "Fy0qcX-Hqe_Z"
      },
      "outputs": [],
      "source": [
        "# Models\n",
        "latent_dim = 32\n",
        "generator = Generator(latent_dim=latent_dim, hidden_dim=256, output_dim=3072, n_classes=n_classes, embed_dim=10).to(device)\n",
        "discriminator = Discriminator( hidden_dim=256, input_dim=3072, n_classes=n_classes, embed_dim=10).to(device)\n",
        "\n",
        "# Optimizers\n",
        "generator_optimizer = torch.optim.Adam(generator.parameters(), lr=0.0001)\n",
        "generator_scheduler = optim.lr_scheduler.ExponentialLR(optimizer=generator_optimizer, gamma=0.99)\n",
        "discriminator_optimizer = torch.optim.Adam(discriminator.parameters(), lr=0.0001)\n",
        "discriminator_scheduler = optim.lr_scheduler.ExponentialLR(optimizer=discriminator_optimizer, gamma=0.99)\n",
        "\n",
        "# loss\n",
        "criterion = nn.MSELoss()"
      ]
    },
    {
      "cell_type": "code",
      "execution_count": 17,
      "id": "FkpMvFzCqg7A",
      "metadata": {
        "id": "FkpMvFzCqg7A"
      },
      "outputs": [],
      "source": [
        "fixed_noise = torch.randn(16, latent_dim,device=device)\n",
        "fixed_fake_labels = torch.randint(0, n_classes, (16,), device=device)\n",
        "\n",
        "eval_fixed_noise = torch.randn(1000, latent_dim,device=device)\n",
        "eval_fixed_fake_labels = torch.randint(0, n_classes, (1000,), device=device)"
      ]
    },
    {
      "cell_type": "code",
      "execution_count": null,
      "id": "aLmu6W6GqkMF",
      "metadata": {
        "id": "aLmu6W6GqkMF"
      },
      "outputs": [],
      "source": [
        "G_losses = []\n",
        "D_losses = []\n",
        "num_epochs = 100\n",
        "for epoch in range(num_epochs):\n",
        "    # For each batch in the dataloader\n",
        "    discriminator_fake_acc = []\n",
        "    discriminator_real_acc = []\n",
        "    for i, data in enumerate(train_loader, 0):\n",
        "\n",
        "        ############################\n",
        "        # (1) Update D network: maximize log(D(x)) + log(1 - D(G(z)))\n",
        "        ###########################\n",
        "        ## Train with all-real batch\n",
        "        discriminator_optimizer.zero_grad()\n",
        "        # Format batch\n",
        "        real_images = data[0].to(device)\n",
        "        real_labels = data[1].to(device)\n",
        "        b_size = real_images.size(0)\n",
        "        label = torch.ones((b_size,), dtype=torch.float, device=device) # Setting labels for real images\n",
        "        # Forward pass real batch through D\n",
        "        output = discriminator(real_images, real_labels).view(-1)\n",
        "        # Calculate loss on all-real batch\n",
        "        error_discriminator_real = criterion(output, label)\n",
        "        # Calculate gradients for D in backward pass\n",
        "        discriminator_real_acc.append(output.mean().item())\n",
        "\n",
        "        ## Train with all-fake batch\n",
        "        # Generate batch of latent vectors\n",
        "        noise = torch.randn(b_size, latent_dim,device=device)\n",
        "        fake_labels = torch.randint(0, n_classes, (b_size,), device=device)\n",
        "        # Generate fake image batch with Generator\n",
        "        fake_images = generator(noise, fake_labels)\n",
        "        label_fake = torch.zeros((b_size,), dtype=torch.float, device=device)\n",
        "        # Classify all fake batch with Discriminator\n",
        "        output = discriminator(fake_images.detach(), fake_labels).view(-1)\n",
        "        # Calculate D's loss on the all-fake batch\n",
        "        error_discriminator_fake = criterion(output, label_fake)\n",
        "        # Calculate the gradients for this batch, accumulated (summed) with previous gradients\n",
        "        discriminator_fake_acc.append(output.mean().item())\n",
        "        # Compute error of D as sum over the fake and the real batches\n",
        "        error_discriminator = error_discriminator_real + error_discriminator_fake\n",
        "        error_discriminator.backward()\n",
        "        # Update D\n",
        "        discriminator_optimizer.step()\n",
        "\n",
        "        ############################\n",
        "        # (2) Update G network: maximize log(D(G(z)))\n",
        "        ###########################\n",
        "        generator_optimizer.zero_grad()\n",
        "        label = torch.ones((b_size,), dtype=torch.float, device=device)  # fake labels are real for generator cost\n",
        "        # Since we just updated D, perform another forward pass of all-fake batch through D\n",
        "        output = discriminator(fake_images, fake_labels).view(-1)\n",
        "        # Calculate G's loss based on this output\n",
        "        error_generator = criterion(output, label)\n",
        "        # Calculate gradients for G\n",
        "        error_generator.backward()\n",
        "        D_G_z2 = output.mean().item()\n",
        "        # Update G\n",
        "        generator_optimizer.step()\n",
        "\n",
        "        # Output training stats\n",
        "        # Save Losses for plotting later\n",
        "        G_losses.append(error_generator.item())\n",
        "        D_losses.append(error_discriminator.item())\n",
        "\n",
        "    print(f\"Epoch: {epoch}, discrimiantor fake error: {np.mean(discriminator_fake_acc):.3}, discriminator real acc: {np.mean(discriminator_real_acc):.3}\")\n",
        "    generator_scheduler.step()\n",
        "    discriminator_scheduler.step()\n",
        "    if epoch % 10 == 9:\n",
        "        with torch.no_grad():\n",
        "            fake = generator(fixed_noise, fixed_fake_labels).detach().cpu()\n",
        "\n",
        "        plt.figure(figsize=(10,10))\n",
        "        imshow(torchvision.utils.make_grid(fake))\n",
        "\n",
        "        with torch.no_grad():\n",
        "            generations_gan = generator(eval_fixed_noise, eval_fixed_fake_labels)\n",
        "            dist_gan = evaluator.get_features(generations_gan.to(device)).cpu()\n",
        "\n",
        "            fid = calculate_frechet_distance(dist_orig_data.numpy(),dist_gan.numpy())\n",
        "\n",
        "        print(f\"FID: {fid}\")\n",
        "\n",
        "        torch.save(generator.state_dict(), f'/content/drive/MyDrive/ssne/generator_weights(epoch_{epoch}_model_1_fid_{fid:.0f}).pth')\n",
        "        torch.save(discriminator.state_dict(), f'/content/drive/MyDrive/ssne/discriminator_weights(epoch_{epoch}_model_1_fid_{fid:.0f}).pth')\n",
        ""
      ]
    },
    {
      "cell_type": "code",
      "execution_count": null,
      "id": "Ml3cRrkNqnXy",
      "metadata": {
        "id": "Ml3cRrkNqnXy"
      },
      "outputs": [],
      "source": [
        "with torch.no_grad():\n",
        "    fake = generator(fixed_noise, fixed_fake_labels).detach().cpu()\n",
        "plt.figure(figsize=(10,10))\n",
        "imshow(torchvision.utils.make_grid(fake))\n",
        "\n",
        "with torch.no_grad():\n",
        "    generations_gan = generator(eval_fixed_noise, eval_fixed_fake_labels)\n",
        "    dist_gan = evaluator.get_features(generations_gan.to(device)).cpu()\n",
        "\n",
        "    fid = calculate_frechet_distance(dist_orig_data.numpy(),dist_gan.numpy())\n",
        "\n",
        "print(f\"FID: {fid}\")"
      ]
    }
  ],
  "metadata": {
    "accelerator": "GPU",
    "colab": {
      "gpuType": "T4",
      "provenance": []
    },
    "kernelspec": {
      "display_name": "Python 3",
      "name": "python3"
    },
    "language_info": {
      "name": "python"
    }
  },
  "nbformat": 4,
  "nbformat_minor": 5
}